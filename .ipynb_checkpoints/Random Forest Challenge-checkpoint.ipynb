{
 "cells": [
  {
   "cell_type": "code",
   "execution_count": 1,
   "metadata": {},
   "outputs": [],
   "source": [
    "import pandas as pd\n",
    "from matplotlib import pyplot as plt\n",
    "import numpy as np\n",
    "\n",
    "from sklearn.model_selection import train_test_split\n",
    "from sklearn.pipeline import Pipeline\n",
    "from sklearn.preprocessing import FunctionTransformer\n",
    "from sklearn.preprocessing import StandardScaler\n",
    "from sklearn.decomposition import PCA \n",
    "from sklearn.linear_model import LinearRegression\n",
    "from sklearn.metrics import r2_score\n",
    "from sklearn import neighbors\n",
    "\n",
    "import statsmodels.formula.api as smf\n",
    "\n",
    "import seaborn as sns"
   ]
  },
  {
   "cell_type": "code",
   "execution_count": 8,
   "metadata": {},
   "outputs": [],
   "source": [
    "#Load data and specific set of columns of interest\n",
    "df = pd.read_csv('nyc-rolling-sales.csv')\n",
    "df_sales = df.loc[(df['SALE PRICE'].replace(' -  ','0').astype(float) > 0.00),['BOROUGH','RESIDENTIAL UNITS','COMMERCIAL UNITS','GROSS SQUARE FEET','LAND SQUARE FEET','SALE PRICE']]\n"
   ]
  },
  {
   "cell_type": "code",
   "execution_count": 13,
   "metadata": {},
   "outputs": [
    {
     "name": "stderr",
     "output_type": "stream",
     "text": [
      "C:\\Users\\lkonig\\AppData\\Local\\Continuum\\anaconda3\\lib\\site-packages\\ipykernel_launcher.py:11: SettingWithCopyWarning: \n",
      "A value is trying to be set on a copy of a slice from a DataFrame\n",
      "\n",
      "See the caveats in the documentation: http://pandas.pydata.org/pandas-docs/stable/indexing.html#indexing-view-versus-copy\n",
      "  # This is added back by InteractiveShellApp.init_path()\n",
      "C:\\Users\\lkonig\\AppData\\Local\\Continuum\\anaconda3\\lib\\site-packages\\ipykernel_launcher.py:12: SettingWithCopyWarning: \n",
      "A value is trying to be set on a copy of a slice from a DataFrame\n",
      "\n",
      "See the caveats in the documentation: http://pandas.pydata.org/pandas-docs/stable/indexing.html#indexing-view-versus-copy\n",
      "  if sys.path[0] == '':\n",
      "C:\\Users\\lkonig\\AppData\\Local\\Continuum\\anaconda3\\lib\\site-packages\\ipykernel_launcher.py:13: SettingWithCopyWarning: \n",
      "A value is trying to be set on a copy of a slice from a DataFrame\n",
      "\n",
      "See the caveats in the documentation: http://pandas.pydata.org/pandas-docs/stable/indexing.html#indexing-view-versus-copy\n",
      "  del sys.path[0]\n",
      "C:\\Users\\lkonig\\AppData\\Local\\Continuum\\anaconda3\\lib\\site-packages\\ipykernel_launcher.py:14: SettingWithCopyWarning: \n",
      "A value is trying to be set on a copy of a slice from a DataFrame\n",
      "\n",
      "See the caveats in the documentation: http://pandas.pydata.org/pandas-docs/stable/indexing.html#indexing-view-versus-copy\n",
      "  \n",
      "C:\\Users\\lkonig\\AppData\\Local\\Continuum\\anaconda3\\lib\\site-packages\\ipykernel_launcher.py:15: SettingWithCopyWarning: \n",
      "A value is trying to be set on a copy of a slice from a DataFrame\n",
      "\n",
      "See the caveats in the documentation: http://pandas.pydata.org/pandas-docs/stable/indexing.html#indexing-view-versus-copy\n",
      "  from ipykernel import kernelapp as app\n",
      "C:\\Users\\lkonig\\AppData\\Local\\Continuum\\anaconda3\\lib\\site-packages\\ipykernel_launcher.py:22: SettingWithCopyWarning: \n",
      "A value is trying to be set on a copy of a slice from a DataFrame\n",
      "\n",
      "See the caveats in the documentation: http://pandas.pydata.org/pandas-docs/stable/indexing.html#indexing-view-versus-copy\n"
     ]
    }
   ],
   "source": [
    "\n",
    "#SALE PRICE, LAND AND GROSS SQUARE FEET, AND RESIDENTIAL UNITS ARE object but should be numeric\n",
    "df_sales['SALE PRICE'] = pd.to_numeric(df_sales['SALE PRICE'], errors='coerce')\n",
    "df_sales['LAND SQUARE FEET'] = pd.to_numeric(df_sales['LAND SQUARE FEET'], errors='coerce')\n",
    "df_sales['GROSS SQUARE FEET']= pd.to_numeric(df_sales['GROSS SQUARE FEET'], errors='coerce')\n",
    "df_sales['RESIDENTIAL UNITS']= pd.to_numeric(df_sales['RESIDENTIAL UNITS'], errors='coerce')\n",
    "df_sales['log_sale_price']=np.log(df_sales['SALE PRICE'])\n",
    "df_sales['GSF_PER_RU']=df_sales['GROSS SQUARE FEET']/df_sales['RESIDENTIAL UNITS']\n",
    "\n",
    "#Update Boroughs\n",
    "df_sales['BOROUGH'][df_sales['BOROUGH'] == 1] = 'Manhattan'\n",
    "df_sales['BOROUGH'][df_sales['BOROUGH'] == 2] = 'Bronx'\n",
    "df_sales['BOROUGH'][df_sales['BOROUGH'] == 3] = 'Brooklyn'\n",
    "df_sales['BOROUGH'][df_sales['BOROUGH'] == 4] = 'Queens'\n",
    "df_sales['BOROUGH'][df_sales['BOROUGH'] == 5] = 'Staten Island'\n",
    "\n",
    "   \n",
    "#Remove outliers\n",
    "df_sales_nonoutliers = df_sales[(df_sales['SALE PRICE'] > 100000) & (df_sales['SALE PRICE'] < 5000000) & (df_sales['RESIDENTIAL UNITS'] > 0) & (df_sales['GROSS SQUARE FEET'] > 0) & (df_sales['GROSS SQUARE FEET'] < 10000)]\n",
    "\n",
    "#drop gross square feet and residential units now that GSF_PER-RU is created\n",
    "df_sales_nonoutliers.drop(columns=['GROSS SQUARE FEET'], axis=1, inplace=True)\n",
    " \n",
    "#Add Dummies\n",
    "\n",
    "#df_sales_nonoutliers = pd.get_dummies(df_sales_nonoutliers)\n",
    "\n",
    "#Drop non-numeric rows\n",
    "#df_sales_nonoutliers = df_sales_nonoutliers.select_dtypes(include=[np.number]).dropna()\n",
    "\n",
    "\n",
    "\n"
   ]
  },
  {
   "cell_type": "code",
   "execution_count": 14,
   "metadata": {},
   "outputs": [
    {
     "data": {
      "text/plain": [
       "array([0.60216718, 0.54643963, 0.55185759, 0.52497096, 0.47984496,\n",
       "       0.48992248, 0.49418605, 0.45542636, 0.57735556, 0.53431563])"
      ]
     },
     "execution_count": 14,
     "metadata": {},
     "output_type": "execute_result"
    }
   ],
   "source": [
    "from sklearn import ensemble\n",
    "from sklearn.model_selection import cross_val_score\n",
    "\n",
    "rfc = ensemble.RandomForestClassifier()\n",
    "X = df_sales_nonoutliers[['RESIDENTIAL UNITS','COMMERCIAL UNITS','GSF_PER_RU','LAND SQUARE FEET','SALE PRICE']]\n",
    "Y = df_sales_nonoutliers['BOROUGH']\n",
    "\n",
    "X = X.dropna(axis=1)\n",
    "\n",
    "cross_val_score(rfc, X, Y, cv=10)"
   ]
  },
  {
   "cell_type": "code",
   "execution_count": 15,
   "metadata": {},
   "outputs": [],
   "source": [
    "corrmat = df_sales_nonoutliers.corr()"
   ]
  },
  {
   "cell_type": "code",
   "execution_count": 17,
   "metadata": {},
   "outputs": [],
   "source": [
    "corrmat_transposed = corrmat.stack().reset_index()\n",
    "corrmat_transposed.columns = ['col1', 'col2', 'correlation']\n",
    "highly_correlated = corrmat_transposed.loc[(corrmat_transposed['col1'] != corrmat_transposed['col2']) & \n",
    "                                           (corrmat_transposed['correlation'].abs() > .9)]\n",
    "highly_correlated.sort_values('correlation', ascending=False)\n",
    "\n",
    "keep = []\n",
    "remove = []\n",
    "\n",
    "for index, row in highly_correlated.iterrows():\n",
    "    if row['col1'] not in keep and row['col1'] not in remove:\n",
    "        keep.append(row['col1'])\n",
    "    if row['col2'] not in keep and row['col2'] not in remove:\n",
    "        remove.append(row['col2'])\n",
    "    "
   ]
  },
  {
   "cell_type": "code",
   "execution_count": 34,
   "metadata": {},
   "outputs": [
    {
     "data": {
      "text/plain": [
       "array([0.53828306, 0.65661253, 0.58623357, 0.51625387, 0.4887684 ,\n",
       "       0.58636716, 0.54376452, 0.5236251 , 0.53292022, 0.44074361,\n",
       "       0.48257165, 0.49496514, 0.46010844, 0.50348567, 0.44453064,\n",
       "       0.48254461, 0.57020946, 0.5810706 , 0.48291925, 0.58307453])"
      ]
     },
     "execution_count": 34,
     "metadata": {},
     "output_type": "execute_result"
    }
   ],
   "source": [
    "from sklearn import ensemble\n",
    "from sklearn.model_selection import cross_val_score\n",
    "\n",
    "rfc = ensemble.RandomForestClassifier()\n",
    "X = df_sales_nonoutliers[['RESIDENTIAL UNITS','COMMERCIAL UNITS','GSF_PER_RU','LAND SQUARE FEET','SALE PRICE']].drop(remove, 1)\n",
    "Y = df_sales_nonoutliers['BOROUGH']\n",
    "\n",
    "X = X.dropna(axis=1)\n",
    "\n",
    "cross_val_score(rfc, X, Y, cv=20)"
   ]
  },
  {
   "cell_type": "code",
   "execution_count": 33,
   "metadata": {},
   "outputs": [],
   "source": [
    "rfc.fit(X,Y)\n",
    "test = pd.DataFrame(np.column_stack((rfc.predict(X),Y)))\n",
    "test.to_csv('compare.csv')"
   ]
  },
  {
   "cell_type": "code",
   "execution_count": null,
   "metadata": {},
   "outputs": [],
   "source": []
  }
 ],
 "metadata": {
  "kernelspec": {
   "display_name": "Python 3",
   "language": "python",
   "name": "python3"
  },
  "language_info": {
   "codemirror_mode": {
    "name": "ipython",
    "version": 3
   },
   "file_extension": ".py",
   "mimetype": "text/x-python",
   "name": "python",
   "nbconvert_exporter": "python",
   "pygments_lexer": "ipython3",
   "version": "3.6.4"
  }
 },
 "nbformat": 4,
 "nbformat_minor": 2
}
