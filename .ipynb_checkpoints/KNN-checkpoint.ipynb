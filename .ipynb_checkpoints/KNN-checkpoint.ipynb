{
 "cells": [
  {
   "cell_type": "code",
   "execution_count": null,
   "metadata": {},
   "outputs": [],
   "source": [
    "import numpy as np\n",
    "import pandas as pd\n",
    "import matplotlib.pyplot as plt\n",
    "import scipy\n",
    "import math\n",
    "%matplotlib inline\n"
   ]
  },
  {
   "cell_type": "code",
   "execution_count": null,
   "metadata": {},
   "outputs": [],
   "source": [
    "music = pd.DataFrame()\n",
    "\n",
    "# Some data to play with.\n",
    "music['duration'] = [184, 134, 243, 186, 122, 197, 294, 382, 102, 264, \n",
    "                     205, 110, 307, 110, 397, 153, 190, 192, 210, 403,\n",
    "                     164, 198, 204, 253, 234, 190, 182, 401, 376, 102]\n",
    "music['loudness'] = [18, 34, 43, 36, 22, 9, 29, 22, 10, 24, \n",
    "                     20, 10, 17, 51, 7, 13, 19, 12, 21, 22,\n",
    "                     16, 18, 4, 23, 34, 19, 14, 11, 37, 42]\n",
    "\n",
    "# We know whether the songs in our training data are jazz or not.\n",
    "music['jazz'] = [ 1, 0, 0, 0, 1, 1, 0, 1, 1, 0,\n",
    "                  0, 1, 1, 0, 1, 1, 0, 1, 1, 1,\n",
    "                  1, 1, 1, 1, 0, 0, 1, 1, 0, 0]\n",
    "\n",
    "\n",
    "# Look at our data.\n",
    "plt.scatter(\n",
    "    music[music['jazz'] == 1].duration,\n",
    "    music[music['jazz'] == 1].loudness,\n",
    "    color='red'\n",
    ")\n",
    "plt.scatter(\n",
    "    music[music['jazz'] == 0].duration,\n",
    "    music[music['jazz'] == 0].loudness,\n",
    "    color='blue'\n",
    ")\n",
    "plt.legend(['Jazz', 'Rock'])\n",
    "plt.title('Jazz and Rock Characteristics')\n",
    "plt.xlabel('Duration')\n",
    "plt.ylabel('Loudness')\n",
    "plt.show()"
   ]
  },
  {
   "cell_type": "code",
   "execution_count": null,
   "metadata": {},
   "outputs": [],
   "source": [
    "from sklearn.neighbors import KNeighborsClassifier\n",
    "neighbors = KNeighborsClassifier(n_neighbors=1)\n",
    "X = music[['loudness', 'duration']]\n",
    "Y = music.jazz\n",
    "neighbors.fit(X,Y)\n",
    "\n",
    "## Predict for a song with 24 loudness that's 190 seconds long.\n",
    "neighbors.predict([[24, 190]])"
   ]
  },
  {
   "cell_type": "code",
   "execution_count": null,
   "metadata": {},
   "outputs": [],
   "source": [
    "neighbors = KNeighborsClassifier(n_neighbors=5)\n",
    "X = music[['loudness', 'duration']]\n",
    "Y = music.jazz\n",
    "neighbors.fit(X,Y)\n",
    "\n",
    "## Predict for a 24 loudness, 190 seconds long song.\n",
    "print(neighbors.predict([[24, 190]]))\n",
    "print(neighbors.predict_proba([[24, 190]]))"
   ]
  },
  {
   "cell_type": "code",
   "execution_count": null,
   "metadata": {},
   "outputs": [],
   "source": [
    "# Our data. Converting from data frames to arrays for the mesh.\n",
    "X = np.array(X)\n",
    "Y = np.array(Y)\n",
    "\n",
    "# Mesh size.\n",
    "h = .10\n",
    "\n",
    "# Plot the decision boundary. We assign a color to each point in the mesh.\n",
    "x_min = X[:, 0].min() - .5\n",
    "x_max = X[:, 0].max() + .5\n",
    "y_min = X[:, 1].min() - .5\n",
    "y_max = X[:, 1].max() + .5\n",
    "xx, yy = np.meshgrid(\n",
    "    np.arange(x_min, x_max, h),\n",
    "    np.arange(y_min, y_max, h)\n",
    ")\n",
    "Z = neighbors.predict(np.c_[xx.ravel(), yy.ravel()])\n"
   ]
  },
  {
   "cell_type": "code",
   "execution_count": null,
   "metadata": {},
   "outputs": [],
   "source": [
    "Y"
   ]
  },
  {
   "cell_type": "code",
   "execution_count": null,
   "metadata": {},
   "outputs": [],
   "source": [
    "\n",
    "# Put the result into a color plot.\n",
    "Z = Z.reshape(xx.shape)\n",
    "plt.figure(1, figsize=(6, 4))\n",
    "plt.set_cmap(plt.cm.Paired)\n",
    "plt.pcolormesh(xx, yy, Z)\n",
    "\n",
    "# Add the training points to the plot.\n",
    "plt.scatter(X[:, 0], X[:, 1], c=Y)\n",
    "plt.xlabel('Loudness')\n",
    "plt.ylabel('Duration')\n",
    "plt.title('Mesh visualization')\n",
    "\n",
    "plt.xlim(xx.min(), xx.max())\n",
    "plt.ylim(yy.min(), yy.max())\n",
    "\n",
    "plt.show()"
   ]
  },
  {
   "cell_type": "code",
   "execution_count": null,
   "metadata": {},
   "outputs": [],
   "source": [
    "Z"
   ]
  },
  {
   "cell_type": "code",
   "execution_count": null,
   "metadata": {},
   "outputs": [],
   "source": [
    "x_min"
   ]
  },
  {
   "cell_type": "code",
   "execution_count": null,
   "metadata": {},
   "outputs": [],
   "source": [
    "x_max"
   ]
  },
  {
   "cell_type": "code",
   "execution_count": null,
   "metadata": {},
   "outputs": [],
   "source": [
    "xx"
   ]
  },
  {
   "cell_type": "code",
   "execution_count": null,
   "metadata": {},
   "outputs": [],
   "source": [
    "yy"
   ]
  },
  {
   "cell_type": "code",
   "execution_count": null,
   "metadata": {},
   "outputs": [],
   "source": [
    "xx.ravel()"
   ]
  },
  {
   "cell_type": "code",
   "execution_count": null,
   "metadata": {},
   "outputs": [],
   "source": [
    "yy.ravel()"
   ]
  },
  {
   "cell_type": "code",
   "execution_count": null,
   "metadata": {},
   "outputs": [],
   "source": [
    "Z"
   ]
  },
  {
   "cell_type": "code",
   "execution_count": null,
   "metadata": {},
   "outputs": [],
   "source": [
    " np.c_[[1,2],[3,4]]"
   ]
  },
  {
   "cell_type": "code",
   "execution_count": null,
   "metadata": {},
   "outputs": [],
   "source": [
    "def predict_knn(df, x, y, k):\n",
    "    df_eud = pd.DataFrame()\n",
    "    df_eud = df\n",
    "    df_eud['eud'] = np.sqrt(((df[df.columns[1]] - x)**2) + ((df[df.columns[0]] - y)**2))\n",
    "    df_topk = df_eud.sort_values('eud',ascending=True).head(k)\n",
    "    df_topk2 = df_topk['jazz']\n",
    "    z = df_topk2.sum()/k\n",
    "    if z >= .5:\n",
    "        return 1\n",
    "    else:\n",
    "        return 0\n",
    "\n",
    "\n"
   ]
  },
  {
   "cell_type": "code",
   "execution_count": null,
   "metadata": {},
   "outputs": [],
   "source": [
    "print(predict_knn(music, 24,190,5))\n"
   ]
  },
  {
   "cell_type": "code",
   "execution_count": null,
   "metadata": {},
   "outputs": [],
   "source": [
    "from sklearn.neighbors import KNeighborsClassifier\n",
    "from scipy import stats\n",
    "\n",
    "neighbors = KNeighborsClassifier(n_neighbors=5, weights='distance')\n",
    "\n",
    "# Our input data frame will be the z-scores this time instead of raw data.\n",
    "X = pd.DataFrame({\n",
    "    'loudness': stats.zscore(music.loudness),\n",
    "    'duration': stats.zscore(music.duration)\n",
    "})\n",
    "\n",
    "# Fit our model.\n",
    "Y = music.jazz\n",
    "neighbors.fit(X, Y)\n",
    "\n",
    "# Arrays, not data frames, for the mesh.\n",
    "X = np.array(X)\n",
    "Y = np.array(Y)\n",
    "\n",
    "# Mesh size.\n",
    "h = .01\n",
    "\n",
    "# Plot the decision boundary. We assign a color to each point in the mesh.\n",
    "x_min = X[:,0].min() - .5\n",
    "x_max = X[:,0].max() + .5\n",
    "y_min = X[:,1].min() - .5\n",
    "y_max = X[:,1].max() + .5\n",
    "xx, yy = np.meshgrid(\n",
    "    np.arange(x_min, x_max, h),\n",
    "    np.arange(y_min, y_max, h)\n",
    ")\n",
    "Z = neighbors.predict(np.c_[xx.ravel(), yy.ravel()])\n",
    "\n",
    "# Put the result into a color plot\n",
    "Z = Z.reshape(xx.shape)\n",
    "plt.figure(1, figsize=(6, 4))\n",
    "plt.set_cmap(plt.cm.Paired)\n",
    "plt.pcolormesh(xx, yy, Z)\n",
    "\n",
    "# Add the training points to the plot.\n",
    "plt.scatter(X[:, 0], X[:, 1], c=Y)\n",
    "plt.xlabel('Loudness')\n",
    "plt.ylabel('Duration')\n",
    "\n",
    "plt.xlim(xx.min(), xx.max())\n",
    "plt.ylim(yy.min(), yy.max())\n",
    "\n",
    "plt.show()"
   ]
  },
  {
   "cell_type": "code",
   "execution_count": 55,
   "metadata": {},
   "outputs": [
    {
     "data": {
      "image/png": "[encoded data removed]",
      "text/plain": [
       "<matplotlib.figure.Figure at 0xd9d8190>"
      ]
     },
     "metadata": {},
     "output_type": "display_data"
    }
   ],
   "source": [
    "from sklearn import neighbors\n",
    "\n",
    "\n",
    "music = pd.DataFrame()\n",
    "music['duration'] = [184, 134, 243, 186, 122, 197, 294, 382, 102, 264, \n",
    "                     205, 110, 307, 110, 397, 153, 190, 192, 210, 403,\n",
    "                     164, 198, 204, 253, 234, 190, 182, 401, 376, 102]\n",
    "music['loudness'] = [18, 34, 43, 36, 22, 9, 29, 22, 10, 24, \n",
    "                     20, 10, 17, 51, 7, 13, 19, 12, 21, 22,\n",
    "                     16, 18, 4, 23, 34, 19, 14, 11, 37, 42]\n",
    "music['bpm'] = [ 105, 90, 78, 75, 120, 110, 80, 100, 105, 60,\n",
    "                  70, 105, 95, 70, 90, 105, 70, 75, 102, 100,\n",
    "                  100, 95, 90, 80, 90, 80, 100, 105, 70, 65]\n",
    "\n",
    "\n",
    "# Build our model.\n",
    "knn = neighbors.KNeighborsRegressor(n_neighbors=10)\n",
    "X = pd.DataFrame(music.loudness)\n",
    "Y = music.bpm\n",
    "knn.fit(X, Y)\n",
    "\n",
    "# Set up our prediction line.\n",
    "T = np.arange(0, 50, 0.1)[:, np.newaxis]\n",
    "\n",
    "# Trailing underscores are a common convention for a prediction.\n",
    "Y_ = knn.predict(T)\n",
    "\n",
    "\n",
    "\n",
    "plt.scatter(X['loudness'], Y, c='k', label='data')\n",
    "plt.plot(T, Y_, c='g', label='prediction')\n",
    "plt.legend()\n",
    "plt.title('K=10, Unweighted')\n",
    "plt.show()"
   ]
  },
  {
   "cell_type": "code",
   "execution_count": 51,
   "metadata": {},
   "outputs": [
    {
     "data": {
      "image/png": "[encoded data removed]",
      "text/plain": [
       "<matplotlib.figure.Figure at 0x985110>"
      ]
     },
     "metadata": {},
     "output_type": "display_data"
    }
   ],
   "source": [
    "# Run the same model, this time with weights.\n",
    "knn_w = neighbors.KNeighborsRegressor(n_neighbors=10, weights='distance')\n",
    "X = pd.DataFrame(music.loudness)\n",
    "Y = music.bpm\n",
    "knn_w.fit(X, Y)\n",
    "\n",
    "# Set up our prediction line.\n",
    "T = np.arange(0, 50, 0.1)[:, np.newaxis]\n",
    "\n",
    "Y_ = knn_w.predict(T)\n",
    "\n",
    "plt.scatter(X['loudness'], Y, c='k', label='data')\n",
    "plt.plot(T, Y_, c='g', label='prediction')\n",
    "plt.legend()\n",
    "plt.title('K=10, Weighted')\n",
    "plt.show()"
   ]
  },
  {
   "cell_type": "code",
   "execution_count": 56,
   "metadata": {},
   "outputs": [
    {
     "name": "stdout",
     "output_type": "stream",
     "text": [
      "Unweighted Accuracy: -0.18 (+/- 0.66)\n",
      "Weighted Accuracy: 0.11 (+/- 0.94)\n"
     ]
    }
   ],
   "source": [
    "from sklearn.model_selection import cross_val_score\n",
    "score = cross_val_score(knn, X, Y, cv=5)\n",
    "print(\"Unweighted Accuracy: %0.2f (+/- %0.2f)\" % (score.mean(), score.std() * 2))\n",
    "score_w = cross_val_score(knn_w, X, Y, cv=5)\n",
    "print(\"Weighted Accuracy: %0.2f (+/- %0.2f)\" % (score_w.mean(), score_w.std() * 2))"
   ]
  },
  {
   "cell_type": "code",
   "execution_count": 57,
   "metadata": {},
   "outputs": [
    {
     "data": {
      "image/png": "[encoded data removed]",
      "text/plain": [
       "<matplotlib.figure.Figure at 0xd9de210>"
      ]
     },
     "metadata": {},
     "output_type": "display_data"
    }
   ],
   "source": [
    "\n",
    "# Build our model.\n",
    "knn = neighbors.KNeighborsRegressor(n_neighbors=10)\n",
    "X = pd.DataFrame(music.duration)\n",
    "Y = music.bpm\n",
    "knn.fit(X, Y)\n",
    "\n",
    "# Set up our prediction line.\n",
    "T = np.arange(0, 400, 0.1)[:, np.newaxis]\n",
    "\n",
    "# Trailing underscores are a common convention for a prediction.\n",
    "Y_ = knn.predict(T)\n",
    "\n",
    "\n",
    "\n",
    "plt.scatter(X['duration'], Y, c='k', label='data')\n",
    "plt.plot(T, Y_, c='g', label='prediction')\n",
    "plt.legend()\n",
    "plt.title('K=10, Unweighted')\n",
    "plt.show()"
   ]
  },
  {
   "cell_type": "code",
   "execution_count": 60,
   "metadata": {},
   "outputs": [
    {
     "data": {
      "image/png": "[encoded data removed]",
      "text/plain": [
       "<matplotlib.figure.Figure at 0x686bb0>"
      ]
     },
     "metadata": {},
     "output_type": "display_data"
    }
   ],
   "source": [
    "\n",
    "# Build our model.\n",
    "knn_w = neighbors.KNeighborsRegressor(n_neighbors=10, weights = 'distance')\n",
    "X = pd.DataFrame(music.duration)\n",
    "Y = music.bpm\n",
    "knn_w.fit(X, Y)\n",
    "\n",
    "# Set up our prediction line.\n",
    "T = np.arange(0, 400, 0.1)[:, np.newaxis]\n",
    "\n",
    "# Trailing underscores are a common convention for a prediction.\n",
    "Y_ = knn_w.predict(T)\n",
    "\n",
    "\n",
    "\n",
    "plt.scatter(X['duration'], Y, c='k', label='data')\n",
    "plt.plot(T, Y_, c='g', label='prediction')\n",
    "plt.legend()\n",
    "plt.title('K=10, Unweighted')\n",
    "plt.show()"
   ]
  },
  {
   "cell_type": "code",
   "execution_count": 61,
   "metadata": {},
   "outputs": [
    {
     "name": "stdout",
     "output_type": "stream",
     "text": [
      "Unweighted Accuracy: -0.44 (+/- 0.81)\n",
      "Weighted Accuracy: -0.78 (+/- 0.77)\n"
     ]
    }
   ],
   "source": [
    "from sklearn.model_selection import cross_val_score\n",
    "score = cross_val_score(knn, X, Y, cv=5)\n",
    "print(\"Unweighted Accuracy: %0.2f (+/- %0.2f)\" % (score.mean(), score.std() * 2))\n",
    "score_w = cross_val_score(knn_w, X, Y, cv=5)\n",
    "print(\"Weighted Accuracy: %0.2f (+/- %0.2f)\" % (score_w.mean(), score_w.std() * 2))"
   ]
  },
  {
   "cell_type": "code",
   "execution_count": 71,
   "metadata": {},
   "outputs": [
    {
     "name": "stdout",
     "output_type": "stream",
     "text": [
      "Accuracy for k=1:  -0.34 (+/- 2.40)\n",
      "Weighted accuracy for k=1:  -0.34 (+/- 2.40)\n",
      "Accuracy for k=2:  -0.01 (+/- 0.87)\n",
      "Weighted accuracy for k=2:  0.19 (+/- 0.83)\n",
      "Accuracy for k=3:  -0.08 (+/- 0.82)\n",
      "Weighted accuracy for k=3:  0.14 (+/- 0.84)\n",
      "Accuracy for k=4:  -0.05 (+/- 0.95)\n",
      "Weighted accuracy for k=4:  0.15 (+/- 0.91)\n",
      "Accuracy for k=5:  -0.30 (+/- 1.36)\n",
      "Weighted accuracy for k=5:  0.11 (+/- 0.99)\n",
      "Accuracy for k=6:  -0.14 (+/- 0.89)\n",
      "Weighted accuracy for k=6:  0.17 (+/- 0.82)\n",
      "Accuracy for k=7:  -0.23 (+/- 1.11)\n",
      "Weighted accuracy for k=7:  0.11 (+/- 0.98)\n",
      "Accuracy for k=8:  -0.25 (+/- 0.90)\n",
      "Weighted accuracy for k=8:  0.10 (+/- 0.98)\n",
      "Accuracy for k=9:  -0.19 (+/- 0.72)\n",
      "Weighted accuracy for k=9:  0.12 (+/- 0.93)\n",
      "Accuracy for k=10:  -0.14 (+/- 0.54)\n",
      "Weighted accuracy for k=10:  0.12 (+/- 0.91)\n"
     ]
    }
   ],
   "source": [
    "from scipy import stats\n",
    "\n",
    "knn_w = neighbors.KNeighborsRegressor(n_neighbors=10, weights = 'distance')\n",
    "\n",
    "# Our input data frame will be the z-scores this time instead of raw data.\n",
    "X = pd.DataFrame({\n",
    "    'loudness': stats.zscore(music.loudness)\n",
    "   # 'duration': stats.zscore(music.duration)\n",
    "})\n",
    "\n",
    "Y = pd.DataFrame({\n",
    "    'bpm': stats.zscore(music.bpm)\n",
    "})\n",
    "\n",
    "\n",
    "for k in range(1,11):\n",
    "    knn = neighbors.KNeighborsRegressor(n_neighbors=k)\n",
    "    knn_w = neighbors.KNeighborsRegressor(n_neighbors=k, weights = 'distance')\n",
    "    score = cross_val_score(knn, X, Y, cv=5)\n",
    "    score_w = cross_val_score(knn_w, X, Y, cv=5)\n",
    "\n",
    "    print('Accuracy for k={}:  {:.2f} (+/- {:.2f})'.format(k,score.mean(),score.std()*2))\n",
    "    print('Weighted accuracy for k={}:  {:.2f} (+/- {:.2f})'.format(k,score_w.mean(),score_w.std()*2))"
   ]
  },
  {
   "cell_type": "code",
   "execution_count": 72,
   "metadata": {},
   "outputs": [
    {
     "name": "stdout",
     "output_type": "stream",
     "text": [
      "Accuracy for k=1:  -1.36 (+/- 2.87)\n",
      "Weighted accuracy for k=1:  -1.36 (+/- 2.87)\n",
      "Accuracy for k=2:  -0.78 (+/- 1.18)\n",
      "Weighted accuracy for k=2:  -1.01 (+/- 0.99)\n",
      "Accuracy for k=3:  -0.34 (+/- 0.45)\n",
      "Weighted accuracy for k=3:  -0.89 (+/- 1.03)\n",
      "Accuracy for k=4:  -0.76 (+/- 0.71)\n",
      "Weighted accuracy for k=4:  -0.95 (+/- 0.86)\n",
      "Accuracy for k=5:  -0.70 (+/- 1.02)\n",
      "Weighted accuracy for k=5:  -0.94 (+/- 0.90)\n",
      "Accuracy for k=6:  -0.76 (+/- 1.38)\n",
      "Weighted accuracy for k=6:  -0.94 (+/- 0.93)\n",
      "Accuracy for k=7:  -0.66 (+/- 1.33)\n",
      "Weighted accuracy for k=7:  -0.89 (+/- 0.90)\n",
      "Accuracy for k=8:  -0.53 (+/- 0.94)\n",
      "Weighted accuracy for k=8:  -0.82 (+/- 0.81)\n",
      "Accuracy for k=9:  -0.41 (+/- 0.63)\n",
      "Weighted accuracy for k=9:  -0.78 (+/- 0.79)\n",
      "Accuracy for k=10:  -0.44 (+/- 0.81)\n",
      "Weighted accuracy for k=10:  -0.78 (+/- 0.77)\n"
     ]
    }
   ],
   "source": [
    "from scipy import stats\n",
    "\n",
    "knn_w = neighbors.KNeighborsRegressor(n_neighbors=10, weights = 'distance')\n",
    "\n",
    "# Our input data frame will be the z-scores this time instead of raw data.\n",
    "X = pd.DataFrame({\n",
    "    #'loudness': stats.zscore(music.loudness)\n",
    "    'duration': stats.zscore(music.duration)\n",
    "})\n",
    "\n",
    "Y = pd.DataFrame({\n",
    "    'bpm': stats.zscore(music.bpm)\n",
    "})\n",
    "\n",
    "\n",
    "for k in range(1,11):\n",
    "    knn = neighbors.KNeighborsRegressor(n_neighbors=k)\n",
    "    knn_w = neighbors.KNeighborsRegressor(n_neighbors=k, weights = 'distance')\n",
    "    score = cross_val_score(knn, X, Y, cv=5)\n",
    "    score_w = cross_val_score(knn_w, X, Y, cv=5)\n",
    "\n",
    "    print('Accuracy for k={}:  {:.2f} (+/- {:.2f})'.format(k,score.mean(),score.std()*2))\n",
    "    print('Weighted accuracy for k={}:  {:.2f} (+/- {:.2f})'.format(k,score_w.mean(),score_w.std()*2))"
   ]
  },
  {
   "cell_type": "code",
   "execution_count": 73,
   "metadata": {},
   "outputs": [
    {
     "name": "stdout",
     "output_type": "stream",
     "text": [
      "Accuracy for k=1:  -1.73 (+/- 4.45)\n",
      "Weighted accuracy for k=1:  -1.73 (+/- 4.45)\n",
      "Accuracy for k=2:  -1.06 (+/- 2.96)\n",
      "Weighted accuracy for k=2:  -1.06 (+/- 3.27)\n",
      "Accuracy for k=3:  -0.54 (+/- 1.67)\n",
      "Weighted accuracy for k=3:  -0.62 (+/- 2.29)\n",
      "Accuracy for k=4:  -0.24 (+/- 1.13)\n",
      "Weighted accuracy for k=4:  -0.44 (+/- 1.91)\n",
      "Accuracy for k=5:  -0.37 (+/- 1.46)\n",
      "Weighted accuracy for k=5:  -0.43 (+/- 1.99)\n",
      "Accuracy for k=6:  -0.37 (+/- 1.32)\n",
      "Weighted accuracy for k=6:  -0.38 (+/- 1.84)\n",
      "Accuracy for k=7:  -0.43 (+/- 1.66)\n",
      "Weighted accuracy for k=7:  -0.37 (+/- 1.86)\n",
      "Accuracy for k=8:  -0.18 (+/- 0.91)\n",
      "Weighted accuracy for k=8:  -0.23 (+/- 1.48)\n",
      "Accuracy for k=9:  -0.14 (+/- 0.72)\n",
      "Weighted accuracy for k=9:  -0.17 (+/- 1.23)\n",
      "Accuracy for k=10:  -0.11 (+/- 0.50)\n",
      "Weighted accuracy for k=10:  -0.11 (+/- 1.05)\n"
     ]
    }
   ],
   "source": [
    "from scipy import stats\n",
    "\n",
    "knn_w = neighbors.KNeighborsRegressor(n_neighbors=10, weights = 'distance')\n",
    "\n",
    "# Our input data frame will be the z-scores this time instead of raw data.\n",
    "X = pd.DataFrame({\n",
    "    'loudness': stats.zscore(music.loudness),\n",
    "    'duration': stats.zscore(music.duration)\n",
    "})\n",
    "\n",
    "Y = pd.DataFrame({\n",
    "    'bpm': stats.zscore(music.bpm)\n",
    "})\n",
    "\n",
    "\n",
    "for k in range(1,11):\n",
    "    knn = neighbors.KNeighborsRegressor(n_neighbors=k)\n",
    "    knn_w = neighbors.KNeighborsRegressor(n_neighbors=k, weights = 'distance')\n",
    "    score = cross_val_score(knn, X, Y, cv=5)\n",
    "    score_w = cross_val_score(knn_w, X, Y, cv=5)\n",
    "\n",
    "    print('Accuracy for k={}:  {:.2f} (+/- {:.2f})'.format(k,score.mean(),score.std()*2))\n",
    "    print('Weighted accuracy for k={}:  {:.2f} (+/- {:.2f})'.format(k,score_w.mean(),score_w.std()*2))"
   ]
  },
  {
   "cell_type": "markdown",
   "metadata": {},
   "source": [
    "The best model appears to be:  Weighted accuracy for k=2:  0.19 (+/- 0.83)"
   ]
  },
  {
   "cell_type": "code",
   "execution_count": null,
   "metadata": {},
   "outputs": [],
   "source": []
  }
 ],
 "metadata": {
  "kernelspec": {
   "display_name": "Python 3",
   "language": "python",
   "name": "python3"
  },
  "language_info": {
   "codemirror_mode": {
    "name": "ipython",
    "version": 3
   },
   "file_extension": ".py",
   "mimetype": "text/x-python",
   "name": "python",
   "nbconvert_exporter": "python",
   "pygments_lexer": "ipython3",
   "version": "3.6.3"
  }
 },
 "nbformat": 4,
 "nbformat_minor": 2
}
